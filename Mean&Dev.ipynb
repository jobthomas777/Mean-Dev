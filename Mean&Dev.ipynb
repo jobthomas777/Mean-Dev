{
  "nbformat": 4,
  "nbformat_minor": 0,
  "metadata": {
    "colab": {
      "provenance": []
    },
    "kernelspec": {
      "name": "python3",
      "display_name": "Python 3"
    },
    "language_info": {
      "name": "python"
    }
  },
  "cells": [
    {
      "cell_type": "code",
      "execution_count": 2,
      "metadata": {
        "colab": {
          "base_uri": "https://localhost:8080/"
        },
        "id": "a4pULgQJTY-Z",
        "outputId": "1ca4905f-16a5-4a08-e49e-ea3e9916a14c"
      },
      "outputs": [
        {
          "output_type": "stream",
          "name": "stderr",
          "text": [
            "/tmp/ipython-input-2-2111931010.py:19: FutureWarning: YF.download() has changed argument auto_adjust default to True\n",
            "  stock_data = yf.download(ticker, start=start, end=end)\n",
            "\r[*********************100%***********************]  1 of 1 completed"
          ]
        },
        {
          "output_type": "stream",
          "name": "stdout",
          "text": [
            "Stock: AAPL\n",
            "Mean Daily Return: 0.0011\n",
            "Standard Deviation of Daily Returns: 0.0197\n"
          ]
        },
        {
          "output_type": "stream",
          "name": "stderr",
          "text": [
            "\n"
          ]
        }
      ],
      "source": [
        "# Install yfinance package if needed\n",
        "!pip install yfinance --quiet\n",
        "\n",
        "import yfinance as yf\n",
        "\n",
        "def analyze_stock_returns(ticker, start, end):\n",
        "    \"\"\"\n",
        "    Download historical stock data and calculate daily return statistics.\n",
        "\n",
        "    Args:\n",
        "        ticker (str): Stock symbol, e.g. 'AAPL'\n",
        "        start (str): Start date in 'YYYY-MM-DD' format\n",
        "        end (str): End date in 'YYYY-MM-DD' format\n",
        "\n",
        "    Returns:\n",
        "        tuple: Mean daily return and standard deviation of daily returns\n",
        "    \"\"\"\n",
        "    # Fetch adjusted close prices for given ticker and date range\n",
        "    stock_data = yf.download(ticker, start=start, end=end)\n",
        "\n",
        "    # Compute daily percentage returns (returns between consecutive days)\n",
        "    stock_data['Daily_Return'] = stock_data['Close'].pct_change()\n",
        "\n",
        "    # Drop first NaN resulting from pct_change\n",
        "    returns = stock_data['Daily_Return'].dropna()\n",
        "\n",
        "    # Calculate mean and standard deviation of daily returns\n",
        "    mean_ret = returns.mean()\n",
        "    std_dev = returns.std()\n",
        "\n",
        "    return mean_ret, std_dev\n",
        "\n",
        "if __name__ == \"__main__\":\n",
        "    symbol = \"AAPL\"\n",
        "    start_date = \"2018-01-01\"\n",
        "    end_date = \"2024-03-29\"\n",
        "\n",
        "    mean_return, std_deviation = analyze_stock_returns(symbol, start_date, end_date)\n",
        "\n",
        "    print(f\"Stock: {symbol}\")\n",
        "    print(f\"Mean Daily Return: {mean_return:.4f}\")\n",
        "    print(f\"Standard Deviation of Daily Returns: {std_deviation:.4f}\")\n"
      ]
    }
  ]
}